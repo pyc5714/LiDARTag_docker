{
 "cells": [
  {
   "cell_type": "code",
   "execution_count": 34,
   "metadata": {},
   "outputs": [],
   "source": [
    "import matplotlib.pyplot as plt\n",
    "import math\n",
    "import numpy as np"
   ]
  },
  {
   "cell_type": "code",
   "execution_count": 36,
   "metadata": {},
   "outputs": [],
   "source": [
    "filepath = '../output/sample_hist.txt'\n",
    "with open(filepath) as fp:\n",
    "    points = []\n",
    "    for line in fp:\n",
    "        points.append(int(line))\n",
    "points = np.array(points)"
   ]
  },
  {
   "cell_type": "code",
   "execution_count": 37,
   "metadata": {},
   "outputs": [
    {
     "name": "stdout",
     "output_type": "stream",
     "text": [
      "50\n",
      "1\n"
     ]
    },
    {
     "data": {
      "image/png": "[encoded data removed]",
      "text/plain": [
       "<Figure size 432x288 with 1 Axes>"
      ]
     },
     "metadata": {
      "needs_background": "light"
     },
     "output_type": "display_data"
    }
   ],
   "source": [
    "plt.hist(points,bins=41)\n",
    "plt.yscale('log', nonposy='clip')\n",
    "print(np.amax(points))\n",
    "print(np.amin(points))"
   ]
  },
  {
   "cell_type": "code",
   "execution_count": 38,
   "metadata": {},
   "outputs": [
    {
     "name": "stdout",
     "output_type": "stream",
     "text": [
      "[2391   97   34   24    8    2    4    6    1    1    2    2    2    1\n",
      "    1    1    1    0    0    0    0    0    0    0    0    1    0    0\n",
      "    0    0    0    0    0    0    0    0    0    0    1]\n",
      "[ 1.          2.25641026  3.51282051  4.76923077  6.02564103  7.28205128\n",
      "  8.53846154  9.79487179 11.05128205 12.30769231 13.56410256 14.82051282\n",
      " 16.07692308 17.33333333 18.58974359 19.84615385 21.1025641  22.35897436\n",
      " 23.61538462 24.87179487 26.12820513 27.38461538 28.64102564 29.8974359\n",
      " 31.15384615 32.41025641 33.66666667 34.92307692 36.17948718 37.43589744\n",
      " 38.69230769 39.94871795 41.20512821 42.46153846 43.71794872 44.97435897\n",
      " 46.23076923 47.48717949 48.74358974 50.        ]\n"
     ]
    }
   ],
   "source": [
    "hist, bin_edges = np.histogram(points, bins=39)\n",
    "print(hist)\n",
    "print(bin_edges)"
   ]
  },
  {
   "cell_type": "code",
   "execution_count": 41,
   "metadata": {},
   "outputs": [
    {
     "name": "stdout",
     "output_type": "stream",
     "text": [
      "0.9868217054263566\n",
      "2546\n",
      "2580\n"
     ]
    }
   ],
   "source": [
    "print(np.sum(hist[0:4]) / np.sum(hist))\n",
    "print(np.sum(hist[0:4]))\n",
    "print(np.sum(hist))"
   ]
  },
  {
   "cell_type": "code",
   "execution_count": null,
   "metadata": {},
   "outputs": [],
   "source": []
  }
 ],
 "metadata": {
  "kernelspec": {
   "display_name": "Python 3",
   "language": "python",
   "name": "python3"
  },
  "language_info": {
   "codemirror_mode": {
    "name": "ipython",
    "version": 3
   },
   "file_extension": ".py",
   "mimetype": "text/x-python",
   "name": "python",
   "nbconvert_exporter": "python",
   "pygments_lexer": "ipython3",
   "version": "3.7.5"
  }
 },
 "nbformat": 4,
 "nbformat_minor": 2
}
